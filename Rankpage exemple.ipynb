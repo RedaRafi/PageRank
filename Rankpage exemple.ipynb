{
 "cells": [
  {
   "cell_type": "code",
   "execution_count": 1,
   "metadata": {},
   "outputs": [],
   "source": [
    "import numpy as np\n",
    "import pandas as pd\n",
    "import xml.etree.ElementTree as ET\n"
   ]
  },
  {
   "cell_type": "code",
   "execution_count": 2,
   "metadata": {},
   "outputs": [],
   "source": [
    "def PageRank( M, dmp = 0.85, eps = 1.0e-5, max_iter = 100):\n",
    "    \"\"\"\n",
    "    M : transation matrix\n",
    "    dmp : Damping factor ; usually set to 0.85\n",
    "    eps : Pre-specified threshold (desired precision); //used in Stopping condition\n",
    "    max_iter : Maximum number of iterations\n",
    "    \"\"\"\n",
    "    nb_site = len (M)\n",
    "    R_old = [1/nb_site for _ in range(nb_site)]\n",
    "    cpp = 0\n",
    "    while True:\n",
    "        R = M.dot(R_old)\n",
    "        R = [ (1-dmp)/nb_site + dmp*r for r in R]\n",
    "\n",
    "        flag = True\n",
    "        for r1, r2 in zip(R, R_old):\n",
    "            if abs(r1 - r2) > eps:\n",
    "                flag = False\n",
    "                break\n",
    "\n",
    "        if flag or cpp >= max_iter:\n",
    "            break\n",
    "\n",
    "        R_old = R\n",
    "        cpp+=1\n",
    "\n",
    "    return cpp, R"
   ]
  },
  {
   "cell_type": "code",
   "execution_count": 3,
   "metadata": {},
   "outputs": [
    {
     "name": "stdout",
     "output_type": "stream",
     "text": [
      "{'page1': [0, ['page2', 'page3', 'page4']], 'page2': [1, ['page3', 'page4']], 'page3': [2, ['page1']], 'page4': [3, ['page3', 'page1']]}\n",
      "[[0.         0.         1.         0.5       ]\n",
      " [0.33333333 0.         0.         0.        ]\n",
      " [0.33333333 0.5        0.         0.5       ]\n",
      " [0.33333333 0.5        0.         0.        ]]\n",
      "12\n"
     ]
    }
   ],
   "source": [
    "def pagerank( G, dmp = 0.85, eps = 1.0e-5, max_iter = 100):\n",
    "    \"\"\"\n",
    "    PageRank computes a ranking of the nodes in the graph G based on \n",
    "    the structure of the incoming links. It was originally designed as \n",
    "    an algorithm to rank web pages. \n",
    "  \n",
    "    Parameters \n",
    "    ---------- \n",
    "    G           : xml path of graph\n",
    "    M           : transation matrix; The adjacency matrix of the web graph\n",
    "    dmp         : damping factor ; usually set to 0.85\n",
    "    eps         : Pre-specified threshold (desired precision); used in Stopping condition\n",
    "    max_iter    : Maximum number of iterations               ; used in Stopping condition\n",
    "    Returns \n",
    "    ------- \n",
    "    pagerank : dictionary; Dictionary of nodes with PageRank as value\n",
    "    \"\"\"\n",
    "    graph = ET.parse(G).getroot()\n",
    "    nb_site = len(graph)\n",
    "\n",
    "    # kt7wwl l graph mn xml l dictionary \n",
    "    link_dict ={}\n",
    "    for i,node in enumerate(graph):\n",
    "        link_dict[node.get(\"link\")] =[ i, [link.get('value') for link in node] ]\n",
    "    print(link_dict)\n",
    "    # {'page1': [0, ['page2', 'page3', 'page4']],\n",
    "    #  'page2': [1, ['page3', 'page4']],\n",
    "    #  'page3': [2, ['page1']],\n",
    "    #  'page4': [3, ['page3', 'page1']]}\n",
    "\n",
    "    # dictionary 2 translation matrix\n",
    "    M = [[0 for _ in range(nb_site)] for _ in range(nb_site)] # transation matrix\n",
    "    for i,node in enumerate(link_dict):\n",
    "        for link in link_dict[node][1]:\n",
    "            M[link_dict[link][0]][link_dict[node][0]] = 1/len(link_dict[node][1])\n",
    "    M = np.array(M)\n",
    "    print(M)\n",
    "    # [[0.         0.         1.         0.5       ]\n",
    "    #  [0.33333333 0.         0.         0.        ]\n",
    "    #  [0.33333333 0.5        0.         0.5       ]\n",
    "    #  [0.33333333 0.5        0.         0.        ]]\n",
    "\n",
    "    R_old = [1/nb_site for _ in range(nb_site)]\n",
    "    cpp = 0\n",
    "    while True:\n",
    "        R = M.dot(R_old)\n",
    "        R = [ (1-dmp)/nb_site + dmp*r for r in R]\n",
    "\n",
    "        flag = True\n",
    "        for r1, r2 in zip(R, R_old):\n",
    "            if abs(r1 - r2) > eps:\n",
    "                flag = False\n",
    "                break\n",
    "\n",
    "        if flag or cpp >= max_iter: # Stopping condition\n",
    "            break\n",
    "\n",
    "        R_old = R   # update\n",
    "        cpp+=1\n",
    "\n",
    "    print(cpp)\n",
    "    return {'id':list(range(nb_site)), 'link': list(link_dict), 'rank': R}\n",
    "\n",
    "home =  ''\n",
    "dict1 = pagerank(home+'graph1.xml')\n",
    "df = pd.DataFrame(dict1)\n",
    "df.sort_values(by=['rank'], ascending=False, inplace=True)\n",
    "df.reset_index(drop=True,inplace=True)\n"
   ]
  },
  {
   "cell_type": "code",
   "execution_count": 4,
   "metadata": {},
   "outputs": [
    {
     "name": "stdout",
     "output_type": "stream",
     "text": [
      "   id   link      rank\n",
      "0   0  page1  0.368158\n",
      "1   2  page3  0.287959\n",
      "2   3  page4  0.202075\n",
      "3   1  page2  0.141809\n"
     ]
    }
   ],
   "source": [
    "print(df)"
   ]
  },
  {
   "cell_type": "code",
   "execution_count": null,
   "metadata": {},
   "outputs": [],
   "source": []
  }
 ],
 "metadata": {
  "kernelspec": {
   "display_name": "Python 3",
   "language": "python",
   "name": "python3"
  },
  "language_info": {
   "codemirror_mode": {
    "name": "ipython",
    "version": 3
   },
   "file_extension": ".py",
   "mimetype": "text/x-python",
   "name": "python",
   "nbconvert_exporter": "python",
   "pygments_lexer": "ipython3",
   "version": "3.7.7"
  }
 },
 "nbformat": 4,
 "nbformat_minor": 4
}
